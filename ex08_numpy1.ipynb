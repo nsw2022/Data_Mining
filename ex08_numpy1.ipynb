{
 "cells": [
  {
   "cell_type": "markdown",
   "id": "711726a2",
   "metadata": {},
   "source": [
    "## Numpy : Numerical Python"
   ]
  },
  {
   "cell_type": "code",
   "execution_count": 8,
   "id": "5dde0780",
   "metadata": {},
   "outputs": [],
   "source": [
    "import numpy as np\n",
    "\n",
    "# 넘파이 배열 생성\n",
    "a=np.arange(10)\n",
    "a\n",
    "\n",
    "a2 = np.arange(3, 9)\n",
    "a2 # \n",
    "\n",
    "a3 = np.arange(3, 9, 2)\n",
    "# a3 # 3, 5, 7"
   ]
  },
  {
   "cell_type": "code",
   "execution_count": 10,
   "id": "d22aae6d",
   "metadata": {},
   "outputs": [
    {
     "name": "stdout",
     "output_type": "stream",
     "text": [
      "int32\n"
     ]
    }
   ],
   "source": [
    "# 넘파이 배열 리스트 생성하기\n",
    "#np.array()함수사용\n",
    "b=[1,2,3,4]\n",
    "arr = np.array(b)\n",
    "arr\n",
    "print(arr)\n",
    "print(arr.dtype)"
   ]
  },
  {
   "cell_type": "code",
   "execution_count": 9,
   "id": "dd02e1cd",
   "metadata": {
    "scrolled": true
   },
   "outputs": [
    {
     "name": "stdout",
     "output_type": "stream",
     "text": [
      "['봄' '여름' '가을' '겨울']\n"
     ]
    }
   ],
   "source": [
    "c=['봄','여름','가을','겨울']\n",
    "arr2 = np.array(c)\n",
    "arr2\n",
    "print(arr2)\n",
    "print(arr2.dtype)"
   ]
  },
  {
   "cell_type": "code",
   "execution_count": 29,
   "id": "7891b6a4",
   "metadata": {},
   "outputs": [],
   "source": [
    "순위 = 1+np.arange(10)\n",
    "팀 = np.array(['SSG','LG','키움','KT','기아','NC','삼성','롯데','두산','한화'])\n",
    "승 = np.array([88, 87, 80, 80, 70, 67, 66, 64, 60, 46])\n",
    "패 = np.array([52, 55, 62, 62, 73, 74, 76, 76, 82, 96])\n",
    "무 = np.array([4, 2, 2, 2, 1, 3, 2, 4, 2, 2])\n",
    "승률 = np.array([0.629, 0.613, 0.563, 0.563, 0.490, 0.475, 0.465, 0.457, 0.423, 0.324])\n",
    "\n",
    "# print(팀)\n",
    "# print(승)\n",
    "# print(무)\n",
    "\n",
    "with open(\"datas/2022kbo.txt\",'w') as f:\n",
    "    f.write(\"========== 2022 한국 프로야구 성젹표 ==========\\n\")\n",
    "    head = (\"순위\\t팀\\t승\\t패\\t무\\t승률\")\n",
    "    f.write(head)\n",
    "    f.write('\\n')\n",
    "    for i in range(len(팀)):\n",
    "        txt = f'{순위[i]}\\t{팀[i]}\\t{승[i]}\\t{패[i]}\\t{무[i]}\\t{승률[i]}\\n'\n",
    "        f.write(txt)"
   ]
  },
  {
   "cell_type": "code",
   "execution_count": 33,
   "id": "9e126d78",
   "metadata": {
    "scrolled": true
   },
   "outputs": [
    {
     "name": "stdout",
     "output_type": "stream",
     "text": [
      "========== 2022 한국 프로야구 성젹표 ==========\n",
      "순위\t팀\t승\t패\t무\t승률\n",
      "1\tSSG\t88\t52\t4\t0.629\n",
      "2\tLG\t87\t55\t2\t0.613\n",
      "3\t키움\t80\t62\t2\t0.563\n",
      "4\tKT\t80\t62\t2\t0.563\n",
      "5\t기아\t70\t73\t1\t0.49\n",
      "6\tNC\t67\t74\t3\t0.475\n",
      "7\t삼성\t66\t76\t2\t0.465\n",
      "8\t롯데\t64\t76\t4\t0.457\n",
      "9\t두산\t60\t82\t2\t0.423\n",
      "10\t한화\t46\t96\t2\t0.324\n",
      "\n"
     ]
    }
   ],
   "source": [
    "with open(\"datas/2022kbo.txt\") as f:\n",
    "    data = f.read()\n",
    "    print(data)"
   ]
  },
  {
   "cell_type": "markdown",
   "id": "de022a57",
   "metadata": {},
   "source": [
    "### 넘파이의 N차원 배열\n",
    "#### 1차원 배열은 벡터(vector)라 함\n",
    "#### 2차원 배열은 행렬(matrix) - 수, 또는 문자를 고라호안에 직사각형 형태로 배열\n",
    "#### 3차원 배열은 텐서(tensor) 라고 함"
   ]
  },
  {
   "cell_type": "code",
   "execution_count": 42,
   "id": "175421c7",
   "metadata": {},
   "outputs": [
    {
     "name": "stdout",
     "output_type": "stream",
     "text": [
      "[1 2]\n",
      "2\n",
      "4\n",
      "[3 0]\n",
      "[0 6]\n"
     ]
    }
   ],
   "source": [
    "A = np.array(\n",
    "    [\n",
    "        [1,2],\n",
    "        [3,4]\n",
    "    ]\n",
    ")\n",
    "B = np.array(\n",
    "    [\n",
    "        [3,0],\n",
    "        [0,6]\n",
    "    ]\n",
    ")\n",
    "'''\n",
    "print(A)\n",
    "print(A.shape)\n",
    "print(B)\n",
    "print(B.shape)\n",
    "'''\n",
    "# 인덱싱\n",
    "print(A[0])\n",
    "print(A[0][1])\n",
    "print(A[1][1])\n",
    "\n",
    "# 전체 조회\n",
    "for row in B:\n",
    "    print(row)\n",
    "\n",
    "\n",
    "# 연산\n",
    "# print(A+B)\n",
    "# print(A-B)\n",
    "# print(A*B)\n",
    "# print(A/B)"
   ]
  }
 ],
 "metadata": {
  "kernelspec": {
   "display_name": "Python 3 (ipykernel)",
   "language": "python",
   "name": "python3"
  },
  "language_info": {
   "codemirror_mode": {
    "name": "ipython",
    "version": 3
   },
   "file_extension": ".py",
   "mimetype": "text/x-python",
   "name": "python",
   "nbconvert_exporter": "python",
   "pygments_lexer": "ipython3",
   "version": "3.10.9"
  }
 },
 "nbformat": 4,
 "nbformat_minor": 5
}
