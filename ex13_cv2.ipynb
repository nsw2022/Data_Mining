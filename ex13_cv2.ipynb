{
 "cells": [
  {
   "cell_type": "code",
   "execution_count": 11,
   "id": "1c3aa11f",
   "metadata": {},
   "outputs": [
    {
     "data": {
      "text/plain": [
       "True"
      ]
     },
     "execution_count": 11,
     "metadata": {},
     "output_type": "execute_result"
    }
   ],
   "source": [
    "try:\n",
    "    from cv2 import cv2\n",
    "except ImportError:\n",
    "    pass\n",
    "\n",
    "\n",
    "img = cv2.imread(\"./source/cat.jpg\",cv2.IMREAD_COLOR)\n",
    "# cv2.imshow('cat',img)\n",
    "# cv2.waitKey(0)\n",
    "cv2.imwrite('./source/cat2.jpg',img)\n",
    "img_gray = cv2.cvtColor(img, cv2.COLOR_BGR2GRAY)\n",
    "cv2.imshow('cat', img_gray)\n",
    "cv2.waitKey(0)\n",
    "\n",
    "#회색고양이 저장\n",
    "cv2.imwrite('./source/catgray.jpg',img_gray)"
   ]
  }
 ],
 "metadata": {
  "kernelspec": {
   "display_name": "Python 3 (ipykernel)",
   "language": "python",
   "name": "python3"
  },
  "language_info": {
   "codemirror_mode": {
    "name": "ipython",
    "version": 3
   },
   "file_extension": ".py",
   "mimetype": "text/x-python",
   "name": "python",
   "nbconvert_exporter": "python",
   "pygments_lexer": "ipython3",
   "version": "3.10.9"
  }
 },
 "nbformat": 4,
 "nbformat_minor": 5
}
