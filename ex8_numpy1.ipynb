{
 "cells": [
  {
   "cell_type": "markdown",
   "id": "918a34a8",
   "metadata": {},
   "source": [
    "## Numpy : Numerical Python"
   ]
  },
  {
   "cell_type": "code",
   "execution_count": 8,
   "id": "84c4642f",
   "metadata": {},
   "outputs": [],
   "source": [
    "import numpy as np\n",
    "\n",
    "# 넘파이 배열 생성\n",
    "a=np.arange(10)\n",
    "a\n",
    "\n",
    "a2 = np.arange(3, 9)\n",
    "a2 # \n",
    "\n",
    "a3 = np.arange(3, 9, 2)\n",
    "# a3 # 3, 5, 7"
   ]
  },
  {
   "cell_type": "code",
   "execution_count": 10,
   "id": "76c36589",
   "metadata": {},
   "outputs": [
    {
     "name": "stdout",
     "output_type": "stream",
     "text": [
      "int32\n"
     ]
    }
   ],
   "source": [
    "# 넘파이 배열 리스트 생성하기\n",
    "#np.array()함수사용\n",
    "b=[1,2,3,4]\n",
    "arr = np.array(b)\n",
    "arr\n",
    "print\n",
    "print(arr.dtype)"
   ]
  },
  {
   "cell_type": "code",
   "execution_count": 9,
   "id": "9a6eda9f",
   "metadata": {},
   "outputs": [
    {
     "name": "stdout",
     "output_type": "stream",
     "text": [
      "['봄' '여름' '가을' '겨울']\n"
     ]
    }
   ],
   "source": [
    "c=['봄','여름','가을','겨울']\n",
    "arr2 = np.array(c)\n",
    "arr2\n",
    "print(arr2)\n",
    "print(arr2.dtype)"
   ]
  }
 ],
 "metadata": {
  "kernelspec": {
   "display_name": "Python 3 (ipykernel)",
   "language": "python",
   "name": "python3"
  },
  "language_info": {
   "codemirror_mode": {
    "name": "ipython",
    "version": 3
   },
   "file_extension": ".py",
   "mimetype": "text/x-python",
   "name": "python",
   "nbconvert_exporter": "python",
   "pygments_lexer": "ipython3",
   "version": "3.10.9"
  }
 },
 "nbformat": 4,
 "nbformat_minor": 5
}
