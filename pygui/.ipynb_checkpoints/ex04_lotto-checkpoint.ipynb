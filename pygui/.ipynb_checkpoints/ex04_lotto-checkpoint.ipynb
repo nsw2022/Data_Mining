{
 "cells": [
  {
   "cell_type": "markdown",
   "id": "611d4b0d",
   "metadata": {},
   "source": [
    "## 로또 당첨 번호 가져오기"
   ]
  },
  {
   "cell_type": "code",
   "execution_count": 19,
   "id": "5453abc9",
   "metadata": {},
   "outputs": [
    {
     "name": "stdout",
     "output_type": "stream",
     "text": [
      "당첨번호\n",
      "['3', '6', '22', '23', '24', '38']\n",
      "보너스 번호\n",
      "30\n"
     ]
    }
   ],
   "source": [
    "import requests\n",
    "from bs4 import BeautifulSoup\n",
    "\n",
    "def loto_win():\n",
    "    num = 1063\n",
    "    url = \"https://dhlottery.co.kr/gameResult.do?method=byWin&drwNo={}\".format(num)\n",
    "    reponse = requests.get(url)\n",
    "    # print(reponse.text)\n",
    "\n",
    "    soup = BeautifulSoup(reponse.text,\"html.parser\")\n",
    "    win_result=soup.select_one(\"div.win_result\") # 태그이름.클래스이름\n",
    "    win_result.text\n",
    "    # \\n이 많은걸확인하여 리스트형태로 리턴\n",
    "    win_list = win_result.text.split('\\n')\n",
    "    win_list\n",
    "    win_list = win_result.text.split('\\n')[7:13]\n",
    "    win_list\n",
    "    print('당첨번호')\n",
    "    print(win_list)\n",
    "    bonus_num = win_result.text.split(\"\\n\")[-4]\n",
    "    print('보너스 번호')\n",
    "    print(bonus_num)\n"
   ]
  },
  {
   "cell_type": "markdown",
   "id": "ee4c964c",
   "metadata": {},
   "source": [
    "# 로또 당첨 앱 제작\n"
   ]
  },
  {
   "cell_type": "code",
   "execution_count": 5,
   "id": "a46184f0",
   "metadata": {},
   "outputs": [],
   "source": [
    "import requests\n",
    "from bs4 import BeautifulSoup\n",
    "from tkinter import *\n",
    "\n",
    "def loto_win():\n",
    "    num = entry.get() # 입력박스에 입력된 값\n",
    "    url = \"https://dhlottery.co.kr/gameResult.do?method=byWin&drwNo={}\".format(num)\n",
    "    reponse = requests.get(url)\n",
    "    # print(reponse.text)\n",
    "\n",
    "    soup = BeautifulSoup(reponse.text,\"html.parser\")\n",
    "    win_result=soup.select_one(\"div.win_result\") # 태그이름.클래스이름\n",
    "    win_result.text\n",
    "    # \\n이 많은걸확인하여 리스트형태로 리턴\n",
    "    win_list = win_result.text.split('\\n')\n",
    "    win_list\n",
    "    win_list = win_result.text.split('\\n')[7:13]\n",
    "    win_list\n",
    "    bonus_num = win_result.text.split(\"\\n\")[-4]\n",
    "    \n",
    "    \n",
    "    # 풀력상자에 번호 출력\n",
    "    output.delete(0.0, END)\n",
    "    output.insert(END,f'당첨번호 : {win_list}\\n보너스 번호 : {bonus_num}')\n",
    "\n",
    "def enter(event):\n",
    "    loto_win()\n",
    "\n",
    "window = Tk()\n",
    "window.title(\"로또 당첨 확인\")\n",
    "\n",
    "Label(window, text=\"당첨 회차 입력 : \").grid(row=0,column=0,sticky=W)\n",
    "# 입력상자\n",
    "entry=Entry(window, bg='yellow')\n",
    "entry.grid(row=1, column=0,sticky=W)\n",
    "\n",
    "btn=Button(window, text=\"당첨 번호 확인\", command=loto_win)\n",
    "btn.grid(row=2, column=0,sticky=W)\n",
    "\n",
    "#출력상자\n",
    "output = Text(window, bg='skyblue', width=50, height=5)\n",
    "output.grid(row=3,column=0,sticky=W)\n",
    "\n",
    "window.bind('<Return>',enter)\n",
    "window.mainloop()"
   ]
  }
 ],
 "metadata": {
  "kernelspec": {
   "display_name": "Python 3 (ipykernel)",
   "language": "python",
   "name": "python3"
  },
  "language_info": {
   "codemirror_mode": {
    "name": "ipython",
    "version": 3
   },
   "file_extension": ".py",
   "mimetype": "text/x-python",
   "name": "python",
   "nbconvert_exporter": "python",
   "pygments_lexer": "ipython3",
   "version": "3.10.9"
  }
 },
 "nbformat": 4,
 "nbformat_minor": 5
}
